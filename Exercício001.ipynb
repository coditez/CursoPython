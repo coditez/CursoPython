"""
##############################################################
Exercício python 001 Deixando tudo pronto

Curso de Python 3 - Mundo 1: Fundamentos

Crie um programa que leia "Olá, Mundo" na tela.
###############################################################
"""

print('Olá, Mundo!')

"""
Estou passando um argumeto para nossa variavel str_mesagem. 
No Python quando é criado uma variavel podemos dar qualquer nome a essa variavel.
str_mesagem -> é nome da nossa variavel 
"""
str_mensagem = 'Open Code!' # Estamos passando um valor string a nossa variavel.

print(str_mensagem) # imprima na tela -> mensagem.

# Observe a saida ele imprimiu a mensagem (Open Code!).
# Você viu a função print() é simples imprima algo na tela.
