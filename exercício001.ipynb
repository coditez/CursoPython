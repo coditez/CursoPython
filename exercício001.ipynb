{
  "nbformat": 4,
  "nbformat_minor": 0,
  "metadata": {
    "colab": {
      "name": "Curso em Video",
      "provenance": [],
      "authorship_tag": "ABX9TyOTZpunK/ypvJV+OPe8ZQsQ",
      "include_colab_link": true
    },
    "kernelspec": {
      "name": "python3",
      "display_name": "Python 3"
    },
    "language_info": {
      "name": "python"
    }
  },
  "cells": [
    {
      "cell_type": "markdown",
      "metadata": {
        "id": "view-in-github",
        "colab_type": "text"
      },
      "source": [
        "<a href=\"https://colab.research.google.com/github/coditez/CursoemVideo/blob/main/exerc%C3%ADcio001.ipynb\" target=\"_parent\"><img src=\"https://colab.research.google.com/assets/colab-badge.svg\" alt=\"Open In Colab\"/></a>"
      ]
    },
    {
      "cell_type": "markdown",
      "source": [
        "Exercício python 001 Deixando tudo pronto\n",
        "\n",
        "**Curso de Python 3 - Mundo 1: Fundamentos** \n",
        "\n",
        "Crie um programa que leia **`\"Olá, Mundo\"`** na tela."
      ],
      "metadata": {
        "id": "HWnaAalgU8qT"
      }
    },
    {
      "cell_type": "code",
      "source": [
        "print('Olá, Mundo!')"
      ],
      "metadata": {
        "colab": {
          "base_uri": "https://localhost:8080/"
        },
        "id": "lyirGj7PVNXn",
        "outputId": "ea9f96e9-99e8-4b07-994b-162b5afe9e1c"
      },
      "execution_count": null,
      "outputs": [
        {
          "output_type": "stream",
          "name": "stdout",
          "text": [
            "Olá, Mundo!\n"
          ]
        }
      ]
    },
    {
      "cell_type": "code",
      "source": [
        "# Estou passando um argumeto para nossa variavel str_mesagem. \n",
        "# No Python quando é criado uma variavel podemos dar qualquer nome a essa variavel.\n",
        "\n",
        "# str_mesagem -> é nome da nossa variavel \n",
        "str_mensagem = 'Dev Aprender' # Estamos passando um valor string a nossa variavel.\n",
        "\n",
        "print(str_mensagem) # imprima na tela -> mensagem."
      ],
      "metadata": {
        "colab": {
          "base_uri": "https://localhost:8080/"
        },
        "id": "rirchGbcn2WP",
        "outputId": "fc0e14e4-0a6a-49d7-ea1b-eeadb9cdad84"
      },
      "execution_count": 7,
      "outputs": [
        {
          "output_type": "stream",
          "name": "stdout",
          "text": [
            "Dev Aprender\n"
          ]
        }
      ]
    },
    {
      "cell_type": "markdown",
      "source": [
        "Observe a saida ele imprimiu a mensagem (**Dev Aprender**).\n",
        "\n",
        "  - Você viu a função `print()` é simples imprima algo na tela.\n"
      ],
      "metadata": {
        "id": "bEJC0DfmvFVP"
      }
    }
  ]
}